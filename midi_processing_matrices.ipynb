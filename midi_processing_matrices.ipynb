{
 "cells": [
  {
   "cell_type": "markdown",
   "metadata": {},
   "source": [
    "# MIDI processing\n",
    "This notebook will handle processing the midi files into the state matrix we want for the network, and back from a network-produced state matrix to a midi."
   ]
  },
  {
   "cell_type": "code",
   "execution_count": 1,
   "metadata": {
    "collapsed": false
   },
   "outputs": [],
   "source": [
    "import midi\n",
    "import pandas as pd\n",
    "import numpy as np\n",
    "import pickle\n",
    "import random\n",
    "import os"
   ]
  },
  {
   "cell_type": "code",
   "execution_count": 2,
   "metadata": {
    "collapsed": true
   },
   "outputs": [],
   "source": [
    "def read_midis(filenames):\n",
    "    '''\n",
    "    A function that takes a list of filenames and returns the corresponding midi Patterns as a list.\n",
    "    '''\n",
    "    pattern_list = []\n",
    "    for f in filenames:\n",
    "        pattern = midi.read_midifile(f)\n",
    "        pattern_list.append(pattern)\n",
    "    return pattern_list"
   ]
  },
  {
   "cell_type": "code",
   "execution_count": 3,
   "metadata": {
    "collapsed": false
   },
   "outputs": [],
   "source": [
    "def patterns_to_matrices(pattern_list):\n",
    "    '''\n",
    "    Takes a list of midi Patterns and converts them to note-matrix format.\n",
    "    '''\n",
    "    for pattern in pattern_list:\n",
    "        if pattern.tick_relative:\n",
    "            pattern.make_ticks_abs() # convert to absolute times in order to sort by time.\n",
    "        # constructs a dataframe \n",
    "        df = pd.DataFrame({'sixteenths':[], 'notes':[], 'velocities':[]})\n",
    "        for track in pattern[1:3]:\n",
    "            for event in track:\n",
    "                if event.name == 'Note On':\n",
    "                    df = df.append({'sixteenths': event.tick*4/pattern.resolution, 'notes': event.data[0],\n",
    "                               'velocities':event.data[1]}, ignore_index=True)\n",
    "        df = df.sort_values('sixteenths')\n",
    "        matrix = np.zeros(((int(max(df['sixteenths'].values)) + 1), 174))\n",
    "        for event in df.iterrows():\n",
    "            timing = int(event[1][1])\n",
    "            note = int(event[1][0]) - 21\n",
    "            velocity = int(event[1][2])\n",
    "            if velocity != 0:\n",
    "                matrix[timing, note * 2] = 1\n",
    "                matrix[timing:, note * 2 + 1] = 1\n",
    "            if velocity == 0:\n",
    "                matrix[timing:, note * 2 + 1] = 0\n",
    "        yield matrix"
   ]
  },
  {
   "cell_type": "code",
   "execution_count": 4,
   "metadata": {
    "collapsed": true
   },
   "outputs": [],
   "source": [
    "def matrix_to_midi(matrix, save_path):\n",
    "    '''\n",
    "    Takes a sample in the note-matrix format and saves it as a midi to save_path.\n",
    "    Returns a copy of the pattern that is written out.\n",
    "    '''\n",
    "    # create a pattern and add a track\n",
    "    pattern = midi.Pattern()\n",
    "    pattern.resolution = 480\n",
    "    track = midi.Track()\n",
    "    pattern.append(track)\n",
    "    pattern.make_ticks_abs() \n",
    "    prev_step = np.zeros(174)\n",
    "    for time, step in enumerate(matrix):\n",
    "        for note, strike in enumerate(step[::2]):\n",
    "            if strike == 1:\n",
    "                track.append(midi.NoteOnEvent(tick = time * pattern.resolution / 4, data = [note + 21, 100]))\n",
    "        for note, (sustain, last_sustain) in enumerate(zip(step[1::2], prev_step[1::2])):\n",
    "            if last_sustain - sustain > 0:\n",
    "                track.append(midi.NoteOnEvent(tick = time * pattern.resolution / 4, data = [note + 21, 0]))\n",
    "        prev_step = step\n",
    "    pattern.make_ticks_rel()\n",
    "    track.append(midi.EndOfTrackEvent())\n",
    "    midi.write_midifile(save_path, pattern)\n",
    "    return pattern"
   ]
  },
  {
   "cell_type": "markdown",
   "metadata": {},
   "source": [
    "# Processing MIDI files\n",
    "\n",
    "Run this code to convert midi files in the folder specified by the `path` variable below to note-matrix format and save them to disk."
   ]
  },
  {
   "cell_type": "code",
   "execution_count": null,
   "metadata": {
    "collapsed": true
   },
   "outputs": [],
   "source": [
    "path = 'C:/Users/Emerson/Documents/bigdata/midis/format_1/'\n",
    "filepaths = [path + f for f in os.listdir(path)]\n",
    "\n",
    "pattern_list = read_midis(filepaths)"
   ]
  },
  {
   "cell_type": "code",
   "execution_count": null,
   "metadata": {
    "collapsed": false,
    "scrolled": true
   },
   "outputs": [],
   "source": [
    "np.random.shuffle(pattern_list)\n",
    "master_matrix = np.concatenate([m for m in patterns_to_matrices(pattern_list[:int(len(pattern_list)*.9)])])\n",
    "test_matrix = np.concatenate([m for m in patterns_to_matrices(pattern_list[int(len(pattern_list)*.9):])])\n",
    "\n",
    "np.save('C:/Users/Emerson/Documents/bigdata/midis/processed/mastermatrix.npy', master_matrix)\n",
    "np.save('C:/Users/Emerson/Documents/bigdata/midis/processed/testmatrix.npy', test_matrix)"
   ]
  },
  {
   "cell_type": "markdown",
   "metadata": {},
   "source": [
    "# Processing generated matrices\n",
    "\n",
    "Run this code to convert the specified note-matrix sample into a .mid file."
   ]
  },
  {
   "cell_type": "code",
   "execution_count": 42,
   "metadata": {
    "collapsed": false
   },
   "outputs": [],
   "source": [
    "sample = 'epoch 10 sample 1'\n",
    "matrix = np.load('C:/Users/Emerson/Documents/bigdata/midis/generated/matrices/' + sample + '.npy')\n",
    "save_path = 'C:/Users/Emerson/Documents/bigdata/midis/generated/midis/' + sample + '.mid'\n",
    "pattern = matrix_to_midi(matrix, save_path)"
   ]
  },
  {
   "cell_type": "code",
   "execution_count": null,
   "metadata": {
    "collapsed": true
   },
   "outputs": [],
   "source": []
  }
 ],
 "metadata": {
  "anaconda-cloud": {},
  "kernelspec": {
   "display_name": "Python [default]",
   "language": "python",
   "name": "python2"
  },
  "language_info": {
   "codemirror_mode": {
    "name": "ipython",
    "version": 2
   },
   "file_extension": ".py",
   "mimetype": "text/x-python",
   "name": "python",
   "nbconvert_exporter": "python",
   "pygments_lexer": "ipython2",
   "version": "2.7.12"
  }
 },
 "nbformat": 4,
 "nbformat_minor": 1
}
